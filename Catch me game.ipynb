{
 "cells": [
  {
   "cell_type": "code",
   "execution_count": 56,
   "metadata": {},
   "outputs": [],
   "source": [
    "#Cath Me Game!\n",
    "import tkinter as tk\n",
    "import random\n",
    "\n",
    "#Function to create new random button co-ordinates\n",
    "def mouseover(self):\n",
    "    x_pos = random.randint(0,440)\n",
    "    y_pos = random.randint(0,440)\n",
    "    button_catch.place(x=x_pos,y=y_pos)\n",
    "\n",
    "#Open Window\n",
    "window = tk.Tk()\n",
    "#Create Frame\n",
    "frame_game = tk.LabelFrame(window, text=\"Catch Me Game!\", width = 500, height = 500, bg=\"White\")\n",
    "#Create button and bind it to the MOUSEOVER function. When cursor 'enters' button, it triggers the function\n",
    "button_catch = tk.Button(frame_game, text=\"Catch Me!\")\n",
    "button_catch.bind(\"<Enter>\",mouseover)\n",
    "button_catch.place(x=10, y=10)\n",
    "#Pack window around the frame\n",
    "frame_game.pack()\n",
    "window.mainloop()"
   ]
  }
 ],
 "metadata": {
  "kernelspec": {
   "display_name": "Python 3",
   "language": "python",
   "name": "python3"
  },
  "language_info": {
   "codemirror_mode": {
    "name": "ipython",
    "version": 3
   },
   "file_extension": ".py",
   "mimetype": "text/x-python",
   "name": "python",
   "nbconvert_exporter": "python",
   "pygments_lexer": "ipython3",
   "version": "3.7.1"
  }
 },
 "nbformat": 4,
 "nbformat_minor": 2
}
