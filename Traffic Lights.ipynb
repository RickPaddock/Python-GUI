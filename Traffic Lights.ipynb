{
 "cells": [
  {
   "cell_type": "code",
   "execution_count": 1,
   "metadata": {},
   "outputs": [],
   "source": [
    "import tkinter as tk\n",
    "\n",
    "#Different combinations of traffic lights\n",
    "phases = ((True,  False, False),\n",
    "          (True,  True,  False),\n",
    "          (False, False, True),\n",
    "          (False, True,  False))\n",
    "\n",
    "#Set framework of circles. Changable parameters are position and colour\n",
    "def draw_circle(pos,colour):\n",
    "    canvas.create_oval(20,10+pos,140,130+pos,fill=colour,outline='black')\n",
    "\n",
    "#Function changes lights when 'NEXT' button pressed. It calls the draw_circle function depending on tuple values\n",
    "def change_lights():\n",
    "    global loop_n\n",
    "    #Draw circles in correct position and add colour depending on tuple. Loop_n itterates 4 times and starts again\n",
    "    draw_circle(0,'red' if phases[loop_n][0] else 'grey')\n",
    "    draw_circle(130,'yellow' if phases[loop_n][1] else 'grey')\n",
    "    draw_circle(260,'green' if phases[loop_n][2] else 'grey')\n",
    "    loop_n += 1\n",
    "    if loop_n == len(phases):\n",
    "        loop_n = 0\n",
    "\n",
    "#Set loop variable to 0 so first itteration takes first tuple position\n",
    "loop_n = 0\n",
    "#Draw window\n",
    "window = tk.Tk()\n",
    "#Draw canvas size and background colour\n",
    "canvas = tk.Canvas(window, width=150, height=400, bg='grey')\n",
    "#Add two buttons. Next calls change_lights function so it draws three circles with relevant colours every time\n",
    "button_next = tk.Button(window,text=\"Next\",command = change_lights)\n",
    "button_quit = tk.Button(window,text=\"Quit\",command = window.destroy)\n",
    "#Position canvas and buttons\n",
    "canvas.grid(row=0)\n",
    "button_next.grid(row=1)\n",
    "button_quit.grid(row=2)\n",
    "#Call function to start with first itteration of tuple (red light only)\n",
    "change_lights()\n",
    "window.mainloop()"
   ]
  }
 ],
 "metadata": {
  "kernelspec": {
   "display_name": "Python 3",
   "language": "python",
   "name": "python3"
  },
  "language_info": {
   "codemirror_mode": {
    "name": "ipython",
    "version": 3
   },
   "file_extension": ".py",
   "mimetype": "text/x-python",
   "name": "python",
   "nbconvert_exporter": "python",
   "pygments_lexer": "ipython3",
   "version": "3.7.1"
  }
 },
 "nbformat": 4,
 "nbformat_minor": 2
}
